








import pandas as pd
import seaborn as sns
import matplotlib.pyplot as plt
%matplotlib inline
sns.set_style('whitegrid')





df = pd.read_csv('Lung Cancer Dataset.csv')





#displaying first 5 rows of our dataset
df.head()


#display last 5 rows of our dataset
df.tail()


#summary of our data
df.info()


#column data types
df.dtypes


# Checking unique values of the dtype- object column to understand its structure
df['PULMONARY_DISEASE'].unique()


#This means the "PULMONARY_DISEASE" column contains only two unique values: "NO" and "YES" , the column’s data type is object, meaning the values are stored as text (strings) rather than numbers.


# check if there are any missing values in each cells
df.isnull().sum()


#from the output above there are no missing values in our dataset because every column has a count of 0 missing values. 
# For our analysis, we assume the dataset is relatively clean. Otherwise, use df.fillna() or df.dropna() as required.


## checking for duplicates
df.duplicated().sum()


#there are no duplicate rows in our dataset


# summary statistics
df.describe()


#list of all columns
df.columns








# a histogram to see the distribution of age
plt.hist(df['AGE'], color='skyblue', edgecolor='black',alpha=1, bins=10)
plt.title('Age Distribution', fontsize=16)
plt.xlabel('Age',fontsize=12)
plt.ylabel('Frequency', fontsize=12)
plt.show()





# bar plot to show the distribution of gender (GENDER)
plt.figure(figsize=(10, 6))
sns.countplot(x='GENDER', data=df, palette='deep', saturation=1)
plt.title('Gender Distribution', fontsize=18)
plt.xlabel('Gender (0: Female, 1: Male)', fontsize=14)
plt.ylabel('Count', fontsize=14)
plt.grid(axis='y', linestyle='--', alpha=1)
plt.show()








# Behavioral factors to analyze,create subplots, plot each behavioral data
behavioral_factors = ['SMOKING', 'ALCOHOL_CONSUMPTION', 'MENTAL_STRESS', 'SMOKING_FAMILY_HISTORY']

fig, axes = plt.subplots(2, 2, figsize=(12, 8))
fig.suptitle('Behavioral Factors vs Pulmonary Disease', fontsize=20, weight='bold')

for i, factor in enumerate(behavioral_factors):
    row, col = divmod(i, 2)
    sns.countplot(x=factor, hue='PULMONARY_DISEASE', data=df, palette='Set2', ax=axes[row, col])
    axes[row, col].set_title(f'{factor} vs PULMONARY DISEASE', fontsize=16)
    axes[row, col].set_xlabel(factor, fontsize=12)
    axes[row, col].set_ylabel('Count', fontsize=12)
    axes[row, col].grid(axis='y', linestyle='--', alpha=1)

plt.tight_layout(rect=[0, 0, 1, 0.95])  # Adjust layout for title
plt.show()








behavioral_factors = ['SMOKING', 'ALCOHOL_CONSUMPTION', 'MENTAL_STRESS', 'SMOKING_FAMILY_HISTORY']
behaviour_pivot = df.groupby('PULMONARY_DISEASE')[behavioral_factors].sum()
behaviour_pivot


# Plotting stacked bar graph
behaviour_pivot.plot(kind='bar', stacked=True, figsize=(10, 6))
plt.title('Behavioral Factors vs Pulmonary Disease (Stacked)', fontsize=16)
plt.xlabel('Pulmonary Disease', fontsize=12)
plt.ylabel('Count', fontsize=12)
plt.xticks(rotation=0)
plt.legend(title='Behavioral Factors', bbox_to_anchor=(1.05, 1), loc='upper left')
plt.tight_layout()
plt.show()








#exposure to pollution vs pulmonary disease
plt.figure(figsize=(8, 6))
sns.countplot(data=df, x='EXPOSURE_TO_POLLUTION', hue='PULMONARY_DISEASE')
plt.title('Pulmonary Disease Count by Exposure to Pollution')
plt.xlabel('Exposure to Pollution')
plt.ylabel('Count')
plt.legend(title='Pulmonary Disease', labels=['No', 'Yes'])
plt.show()









# Health indicators for subplots
health_indicators = ["BREATHING_ISSUE", "CHEST_TIGHTNESS", "OXYGEN_SATURATION", "IMMUNE_WEAKNESS", "FINGER_DISCOLORATION", "ENERGY_LEVEL"]

fig, axes = plt.subplots(3, 2, figsize=(15, 12))
axes = axes.flatten()

plot_types = ['line', 'bar', 'hist', 'line', 'bar', 'hist']

for i, indicator in enumerate(health_indicators):
    if plot_types[i] == 'line':
        sns.countplot(data=df, x='PULMONARY_DISEASE', hue=indicator, ax=axes[i])
    elif plot_types[i] == 'bar':
        sns.countplot(data=df, x='PULMONARY_DISEASE', hue=indicator, ax=axes[i])
    elif plot_types[i] == 'hist':
        sns.histplot(df, x=indicator, hue='PULMONARY_DISEASE', element='step', ax=axes[i], common_norm=False)
    axes[i].set_title(indicator.replace('_', ' ').title())

plt.tight_layout()
plt.show()









#create a new  column using lambda functions whereby we categorize ages into 'Young' (under 40), 'Middle-aged' (40 to 59), and 'Senior' (60 and above).
df['Age_group'] = df['AGE'].map(lambda x: 'Young' if x < 40 else 'Middle-aged' if x < 60 else 'Senior')


df.head()


#distribution of records across different age groups.
df.groupby('Age_group').size()


df.groupby('Age_group')['AGE'].sum().plot.pie(figsize=(13, 6));





#group by PULMONARY_DISEASE and Age_group, sum the SMOKING values for each combination,
grouped = df.groupby(['PULMONARY_DISEASE', 'Age_group'])['SMOKING'].sum()
grouped


#lets create a pivot table
pivot = grouped.reset_index().pivot(index='PULMONARY_DISEASE', columns='Age_group', values='SMOKING')
pivot


#bar chart from the pivot table
pivot.plot(kind='bar', figsize=(10, 6))
plt.title('Smoking Counts by Pulmonary Disease and Age Group', fontsize=16)
plt.xlabel('Pulmonary Disease', fontsize=12)
plt.ylabel('Smoking Count', fontsize=12)
plt.xticks(rotation=0)
plt.legend(title='Age Group')
plt.show()








# Convert'PULMONARY_DISEASE' / 'LUNG_CANCER' to numeric for aggregation
df['PULMONARY_DISEASE'] = df['PULMONARY_DISEASE'].apply(lambda x: 1 if x == 'YES' else 0)


df.head()


# Correlation Analysis
correlation_matrix = df.corr()
print("Correlation Matrix:\n", correlation_matrix['PULMONARY_DISEASE'].sort_values(ascending=False))


# Sort correlations with PULMONARY_DISEASE
correlations = correlation_matrix['PULMONARY_DISEASE'].sort_values(ascending=False)[1:]
# Plot
plt.figure(figsize=(10, 6))
sns.barplot(x=correlations.values, y=correlations.index)
plt.title('Correlation with Pulmonary Disease', fontsize=16, weight='bold')
plt.xlabel('Correlation Coefficient', fontsize=12)
plt.ylabel('Features', fontsize=12)
plt.grid(axis='x', linestyle='--', alpha=1)
plt.show()






