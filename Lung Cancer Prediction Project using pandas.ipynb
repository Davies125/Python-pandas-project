{
 "cells": [
  {
   "cell_type": "markdown",
   "id": "46b453e8-907a-46ae-b440-b14af31b75b7",
   "metadata": {},
   "source": [
    "## Lung Cancer Prediction Project using pandas\n",
    "This project aims to analyze a lung cancer dataset to identify how demographic factors (age, gender), behavioral factors (smoking, alcohol consumption, smoking family history, mental stress), environmental factors (exposure to pollution), and health indicators (breathing issues, chest tightness, oxygen saturation, immune weakness, finger discoloration, energy level) influence lung cancer. I will apply the skills I’ve learned in Python, particularly using Pandas, to explore and interpret the data effectively."
   ]
  },
  {
   "cell_type": "markdown",
   "id": "a29aba7d-70e4-4b08-b1cf-d34706d996c0",
   "metadata": {},
   "source": [
    " The analysis will focus on answering the following questions:\n",
    "\n",
    "1. Demographics factors:\n",
    "   - What is the age distribution of the patients?\n",
    "   - How does lung cancer prevalence vary across different age groups (Young, Middle-aged, Senior)?\n",
    "     \n",
    "2. Behavioral factors:\n",
    "   - Are there any noticeable trends between smoking habits and lung cancer presence?\n",
    "   - How do other behavioral factors relate to lung cancer cases?\n",
    "3. is there a relationship between environmental factors , Health indicators with respect to pulmonary disease\n",
    "\n",
    "5. Overall Insights:\n",
    "   - What are the key indicators or features that stand out between those diagnosed with lung cancer and those who aren’t?\n",
    "\n",
    "The insights gained from this analysis can contribute to understanding the factors associated with lung cancer, potentially aiding early detection and intervention strategies."
   ]
  },
  {
   "cell_type": "markdown",
   "id": "15c3493f-71e8-411c-b5f0-4e0410335d7b",
   "metadata": {
    "jp-MarkdownHeadingCollapsed": true
   },
   "source": [
    "### Import libraries"
   ]
  },
  {
   "cell_type": "code",
   "execution_count": 7,
   "id": "2a8095d8-f443-4a97-bf04-25211e9d9ca7",
   "metadata": {},
   "outputs": [],
   "source": [
    "import pandas as pd\n",
    "import seaborn as sns\n",
    "import matplotlib.pyplot as plt\n",
    "%matplotlib inline\n",
    "sns.set_style('whitegrid')"
   ]
  },
  {
   "cell_type": "markdown",
   "id": "59d17107-b58f-40d3-8823-73b357ff1470",
   "metadata": {
    "jp-MarkdownHeadingCollapsed": true
   },
   "source": [
    "### Import / Load our dataset"
   ]
  },
  {
   "cell_type": "code",
   "execution_count": 9,
   "id": "159df6db-c6ed-4632-ac09-6049c4797bbb",
   "metadata": {},
   "outputs": [],
   "source": [
    "df = pd.read_csv('Lung Cancer Dataset.csv')"
   ]
  },
  {
   "cell_type": "markdown",
   "id": "0b94d131-1ed0-49d4-be77-dfc84ba389f2",
   "metadata": {
    "jp-MarkdownHeadingCollapsed": true
   },
   "source": [
    "### Data Understanding"
   ]
  },
  {
   "cell_type": "code",
   "execution_count": 11,
   "id": "e33870e1-4f1a-4d34-879f-37f6be855415",
   "metadata": {},
   "outputs": [
    {
     "data": {
      "text/html": [
       "<div>\n",
       "<style scoped>\n",
       "    .dataframe tbody tr th:only-of-type {\n",
       "        vertical-align: middle;\n",
       "    }\n",
       "\n",
       "    .dataframe tbody tr th {\n",
       "        vertical-align: top;\n",
       "    }\n",
       "\n",
       "    .dataframe thead th {\n",
       "        text-align: right;\n",
       "    }\n",
       "</style>\n",
       "<table border=\"1\" class=\"dataframe\">\n",
       "  <thead>\n",
       "    <tr style=\"text-align: right;\">\n",
       "      <th></th>\n",
       "      <th>AGE</th>\n",
       "      <th>GENDER</th>\n",
       "      <th>SMOKING</th>\n",
       "      <th>FINGER_DISCOLORATION</th>\n",
       "      <th>MENTAL_STRESS</th>\n",
       "      <th>EXPOSURE_TO_POLLUTION</th>\n",
       "      <th>LONG_TERM_ILLNESS</th>\n",
       "      <th>ENERGY_LEVEL</th>\n",
       "      <th>IMMUNE_WEAKNESS</th>\n",
       "      <th>BREATHING_ISSUE</th>\n",
       "      <th>ALCOHOL_CONSUMPTION</th>\n",
       "      <th>THROAT_DISCOMFORT</th>\n",
       "      <th>OXYGEN_SATURATION</th>\n",
       "      <th>CHEST_TIGHTNESS</th>\n",
       "      <th>FAMILY_HISTORY</th>\n",
       "      <th>SMOKING_FAMILY_HISTORY</th>\n",
       "      <th>STRESS_IMMUNE</th>\n",
       "      <th>PULMONARY_DISEASE</th>\n",
       "    </tr>\n",
       "  </thead>\n",
       "  <tbody>\n",
       "    <tr>\n",
       "      <th>0</th>\n",
       "      <td>68</td>\n",
       "      <td>1</td>\n",
       "      <td>1</td>\n",
       "      <td>1</td>\n",
       "      <td>1</td>\n",
       "      <td>1</td>\n",
       "      <td>0</td>\n",
       "      <td>57.831178</td>\n",
       "      <td>0</td>\n",
       "      <td>0</td>\n",
       "      <td>1</td>\n",
       "      <td>1</td>\n",
       "      <td>95.977287</td>\n",
       "      <td>1</td>\n",
       "      <td>0</td>\n",
       "      <td>0</td>\n",
       "      <td>0</td>\n",
       "      <td>NO</td>\n",
       "    </tr>\n",
       "    <tr>\n",
       "      <th>1</th>\n",
       "      <td>81</td>\n",
       "      <td>1</td>\n",
       "      <td>1</td>\n",
       "      <td>0</td>\n",
       "      <td>0</td>\n",
       "      <td>1</td>\n",
       "      <td>1</td>\n",
       "      <td>47.694835</td>\n",
       "      <td>1</td>\n",
       "      <td>1</td>\n",
       "      <td>0</td>\n",
       "      <td>1</td>\n",
       "      <td>97.184483</td>\n",
       "      <td>0</td>\n",
       "      <td>0</td>\n",
       "      <td>0</td>\n",
       "      <td>0</td>\n",
       "      <td>YES</td>\n",
       "    </tr>\n",
       "    <tr>\n",
       "      <th>2</th>\n",
       "      <td>58</td>\n",
       "      <td>1</td>\n",
       "      <td>1</td>\n",
       "      <td>0</td>\n",
       "      <td>0</td>\n",
       "      <td>0</td>\n",
       "      <td>0</td>\n",
       "      <td>59.577435</td>\n",
       "      <td>0</td>\n",
       "      <td>1</td>\n",
       "      <td>1</td>\n",
       "      <td>0</td>\n",
       "      <td>94.974939</td>\n",
       "      <td>0</td>\n",
       "      <td>0</td>\n",
       "      <td>0</td>\n",
       "      <td>0</td>\n",
       "      <td>NO</td>\n",
       "    </tr>\n",
       "    <tr>\n",
       "      <th>3</th>\n",
       "      <td>44</td>\n",
       "      <td>0</td>\n",
       "      <td>1</td>\n",
       "      <td>0</td>\n",
       "      <td>1</td>\n",
       "      <td>1</td>\n",
       "      <td>0</td>\n",
       "      <td>59.785767</td>\n",
       "      <td>0</td>\n",
       "      <td>1</td>\n",
       "      <td>0</td>\n",
       "      <td>1</td>\n",
       "      <td>95.187900</td>\n",
       "      <td>0</td>\n",
       "      <td>0</td>\n",
       "      <td>0</td>\n",
       "      <td>0</td>\n",
       "      <td>YES</td>\n",
       "    </tr>\n",
       "    <tr>\n",
       "      <th>4</th>\n",
       "      <td>72</td>\n",
       "      <td>0</td>\n",
       "      <td>1</td>\n",
       "      <td>1</td>\n",
       "      <td>1</td>\n",
       "      <td>1</td>\n",
       "      <td>1</td>\n",
       "      <td>59.733941</td>\n",
       "      <td>0</td>\n",
       "      <td>1</td>\n",
       "      <td>0</td>\n",
       "      <td>1</td>\n",
       "      <td>93.503008</td>\n",
       "      <td>0</td>\n",
       "      <td>0</td>\n",
       "      <td>0</td>\n",
       "      <td>0</td>\n",
       "      <td>YES</td>\n",
       "    </tr>\n",
       "  </tbody>\n",
       "</table>\n",
       "</div>"
      ],
      "text/plain": [
       "   AGE  GENDER  SMOKING  FINGER_DISCOLORATION  MENTAL_STRESS  \\\n",
       "0   68       1        1                     1              1   \n",
       "1   81       1        1                     0              0   \n",
       "2   58       1        1                     0              0   \n",
       "3   44       0        1                     0              1   \n",
       "4   72       0        1                     1              1   \n",
       "\n",
       "   EXPOSURE_TO_POLLUTION  LONG_TERM_ILLNESS  ENERGY_LEVEL  IMMUNE_WEAKNESS  \\\n",
       "0                      1                  0     57.831178                0   \n",
       "1                      1                  1     47.694835                1   \n",
       "2                      0                  0     59.577435                0   \n",
       "3                      1                  0     59.785767                0   \n",
       "4                      1                  1     59.733941                0   \n",
       "\n",
       "   BREATHING_ISSUE  ALCOHOL_CONSUMPTION  THROAT_DISCOMFORT  OXYGEN_SATURATION  \\\n",
       "0                0                    1                  1          95.977287   \n",
       "1                1                    0                  1          97.184483   \n",
       "2                1                    1                  0          94.974939   \n",
       "3                1                    0                  1          95.187900   \n",
       "4                1                    0                  1          93.503008   \n",
       "\n",
       "   CHEST_TIGHTNESS  FAMILY_HISTORY  SMOKING_FAMILY_HISTORY  STRESS_IMMUNE  \\\n",
       "0                1               0                       0              0   \n",
       "1                0               0                       0              0   \n",
       "2                0               0                       0              0   \n",
       "3                0               0                       0              0   \n",
       "4                0               0                       0              0   \n",
       "\n",
       "  PULMONARY_DISEASE  \n",
       "0                NO  \n",
       "1               YES  \n",
       "2                NO  \n",
       "3               YES  \n",
       "4               YES  "
      ]
     },
     "execution_count": 11,
     "metadata": {},
     "output_type": "execute_result"
    }
   ],
   "source": [
    "#displaying first 5 rows of our dataset\n",
    "df.head()"
   ]
  },
  {
   "cell_type": "code",
   "execution_count": 12,
   "id": "920a3808-16a4-425d-8bd2-9d736a52d1df",
   "metadata": {},
   "outputs": [
    {
     "data": {
      "text/html": [
       "<div>\n",
       "<style scoped>\n",
       "    .dataframe tbody tr th:only-of-type {\n",
       "        vertical-align: middle;\n",
       "    }\n",
       "\n",
       "    .dataframe tbody tr th {\n",
       "        vertical-align: top;\n",
       "    }\n",
       "\n",
       "    .dataframe thead th {\n",
       "        text-align: right;\n",
       "    }\n",
       "</style>\n",
       "<table border=\"1\" class=\"dataframe\">\n",
       "  <thead>\n",
       "    <tr style=\"text-align: right;\">\n",
       "      <th></th>\n",
       "      <th>AGE</th>\n",
       "      <th>GENDER</th>\n",
       "      <th>SMOKING</th>\n",
       "      <th>FINGER_DISCOLORATION</th>\n",
       "      <th>MENTAL_STRESS</th>\n",
       "      <th>EXPOSURE_TO_POLLUTION</th>\n",
       "      <th>LONG_TERM_ILLNESS</th>\n",
       "      <th>ENERGY_LEVEL</th>\n",
       "      <th>IMMUNE_WEAKNESS</th>\n",
       "      <th>BREATHING_ISSUE</th>\n",
       "      <th>ALCOHOL_CONSUMPTION</th>\n",
       "      <th>THROAT_DISCOMFORT</th>\n",
       "      <th>OXYGEN_SATURATION</th>\n",
       "      <th>CHEST_TIGHTNESS</th>\n",
       "      <th>FAMILY_HISTORY</th>\n",
       "      <th>SMOKING_FAMILY_HISTORY</th>\n",
       "      <th>STRESS_IMMUNE</th>\n",
       "      <th>PULMONARY_DISEASE</th>\n",
       "    </tr>\n",
       "  </thead>\n",
       "  <tbody>\n",
       "    <tr>\n",
       "      <th>4995</th>\n",
       "      <td>32</td>\n",
       "      <td>0</td>\n",
       "      <td>1</td>\n",
       "      <td>1</td>\n",
       "      <td>0</td>\n",
       "      <td>0</td>\n",
       "      <td>1</td>\n",
       "      <td>60.700696</td>\n",
       "      <td>1</td>\n",
       "      <td>1</td>\n",
       "      <td>1</td>\n",
       "      <td>1</td>\n",
       "      <td>94.012495</td>\n",
       "      <td>0</td>\n",
       "      <td>1</td>\n",
       "      <td>1</td>\n",
       "      <td>0</td>\n",
       "      <td>YES</td>\n",
       "    </tr>\n",
       "    <tr>\n",
       "      <th>4996</th>\n",
       "      <td>80</td>\n",
       "      <td>0</td>\n",
       "      <td>1</td>\n",
       "      <td>1</td>\n",
       "      <td>1</td>\n",
       "      <td>1</td>\n",
       "      <td>1</td>\n",
       "      <td>50.751741</td>\n",
       "      <td>0</td>\n",
       "      <td>1</td>\n",
       "      <td>1</td>\n",
       "      <td>1</td>\n",
       "      <td>94.394968</td>\n",
       "      <td>0</td>\n",
       "      <td>0</td>\n",
       "      <td>0</td>\n",
       "      <td>0</td>\n",
       "      <td>YES</td>\n",
       "    </tr>\n",
       "    <tr>\n",
       "      <th>4997</th>\n",
       "      <td>51</td>\n",
       "      <td>1</td>\n",
       "      <td>0</td>\n",
       "      <td>0</td>\n",
       "      <td>1</td>\n",
       "      <td>0</td>\n",
       "      <td>0</td>\n",
       "      <td>61.063496</td>\n",
       "      <td>1</td>\n",
       "      <td>0</td>\n",
       "      <td>0</td>\n",
       "      <td>0</td>\n",
       "      <td>98.108901</td>\n",
       "      <td>0</td>\n",
       "      <td>0</td>\n",
       "      <td>0</td>\n",
       "      <td>1</td>\n",
       "      <td>NO</td>\n",
       "    </tr>\n",
       "    <tr>\n",
       "      <th>4998</th>\n",
       "      <td>76</td>\n",
       "      <td>1</td>\n",
       "      <td>0</td>\n",
       "      <td>1</td>\n",
       "      <td>0</td>\n",
       "      <td>0</td>\n",
       "      <td>0</td>\n",
       "      <td>48.662872</td>\n",
       "      <td>0</td>\n",
       "      <td>1</td>\n",
       "      <td>0</td>\n",
       "      <td>1</td>\n",
       "      <td>95.577773</td>\n",
       "      <td>1</td>\n",
       "      <td>0</td>\n",
       "      <td>0</td>\n",
       "      <td>0</td>\n",
       "      <td>NO</td>\n",
       "    </tr>\n",
       "    <tr>\n",
       "      <th>4999</th>\n",
       "      <td>33</td>\n",
       "      <td>0</td>\n",
       "      <td>1</td>\n",
       "      <td>0</td>\n",
       "      <td>0</td>\n",
       "      <td>1</td>\n",
       "      <td>1</td>\n",
       "      <td>58.245188</td>\n",
       "      <td>0</td>\n",
       "      <td>1</td>\n",
       "      <td>1</td>\n",
       "      <td>1</td>\n",
       "      <td>94.206934</td>\n",
       "      <td>1</td>\n",
       "      <td>0</td>\n",
       "      <td>0</td>\n",
       "      <td>0</td>\n",
       "      <td>NO</td>\n",
       "    </tr>\n",
       "  </tbody>\n",
       "</table>\n",
       "</div>"
      ],
      "text/plain": [
       "      AGE  GENDER  SMOKING  FINGER_DISCOLORATION  MENTAL_STRESS  \\\n",
       "4995   32       0        1                     1              0   \n",
       "4996   80       0        1                     1              1   \n",
       "4997   51       1        0                     0              1   \n",
       "4998   76       1        0                     1              0   \n",
       "4999   33       0        1                     0              0   \n",
       "\n",
       "      EXPOSURE_TO_POLLUTION  LONG_TERM_ILLNESS  ENERGY_LEVEL  IMMUNE_WEAKNESS  \\\n",
       "4995                      0                  1     60.700696                1   \n",
       "4996                      1                  1     50.751741                0   \n",
       "4997                      0                  0     61.063496                1   \n",
       "4998                      0                  0     48.662872                0   \n",
       "4999                      1                  1     58.245188                0   \n",
       "\n",
       "      BREATHING_ISSUE  ALCOHOL_CONSUMPTION  THROAT_DISCOMFORT  \\\n",
       "4995                1                    1                  1   \n",
       "4996                1                    1                  1   \n",
       "4997                0                    0                  0   \n",
       "4998                1                    0                  1   \n",
       "4999                1                    1                  1   \n",
       "\n",
       "      OXYGEN_SATURATION  CHEST_TIGHTNESS  FAMILY_HISTORY  \\\n",
       "4995          94.012495                0               1   \n",
       "4996          94.394968                0               0   \n",
       "4997          98.108901                0               0   \n",
       "4998          95.577773                1               0   \n",
       "4999          94.206934                1               0   \n",
       "\n",
       "      SMOKING_FAMILY_HISTORY  STRESS_IMMUNE PULMONARY_DISEASE  \n",
       "4995                       1              0               YES  \n",
       "4996                       0              0               YES  \n",
       "4997                       0              1                NO  \n",
       "4998                       0              0                NO  \n",
       "4999                       0              0                NO  "
      ]
     },
     "execution_count": 12,
     "metadata": {},
     "output_type": "execute_result"
    }
   ],
   "source": [
    "#display last 5 rows of our dataset\n",
    "df.tail()"
   ]
  },
  {
   "cell_type": "code",
   "execution_count": 13,
   "id": "ee392b15-b731-4553-a93f-548d832754c6",
   "metadata": {},
   "outputs": [
    {
     "name": "stdout",
     "output_type": "stream",
     "text": [
      "<class 'pandas.core.frame.DataFrame'>\n",
      "RangeIndex: 5000 entries, 0 to 4999\n",
      "Data columns (total 18 columns):\n",
      " #   Column                  Non-Null Count  Dtype  \n",
      "---  ------                  --------------  -----  \n",
      " 0   AGE                     5000 non-null   int64  \n",
      " 1   GENDER                  5000 non-null   int64  \n",
      " 2   SMOKING                 5000 non-null   int64  \n",
      " 3   FINGER_DISCOLORATION    5000 non-null   int64  \n",
      " 4   MENTAL_STRESS           5000 non-null   int64  \n",
      " 5   EXPOSURE_TO_POLLUTION   5000 non-null   int64  \n",
      " 6   LONG_TERM_ILLNESS       5000 non-null   int64  \n",
      " 7   ENERGY_LEVEL            5000 non-null   float64\n",
      " 8   IMMUNE_WEAKNESS         5000 non-null   int64  \n",
      " 9   BREATHING_ISSUE         5000 non-null   int64  \n",
      " 10  ALCOHOL_CONSUMPTION     5000 non-null   int64  \n",
      " 11  THROAT_DISCOMFORT       5000 non-null   int64  \n",
      " 12  OXYGEN_SATURATION       5000 non-null   float64\n",
      " 13  CHEST_TIGHTNESS         5000 non-null   int64  \n",
      " 14  FAMILY_HISTORY          5000 non-null   int64  \n",
      " 15  SMOKING_FAMILY_HISTORY  5000 non-null   int64  \n",
      " 16  STRESS_IMMUNE           5000 non-null   int64  \n",
      " 17  PULMONARY_DISEASE       5000 non-null   object \n",
      "dtypes: float64(2), int64(15), object(1)\n",
      "memory usage: 703.2+ KB\n"
     ]
    }
   ],
   "source": [
    "#summary of our data\n",
    "df.info()"
   ]
  },
  {
   "cell_type": "code",
   "execution_count": 14,
   "id": "755d7f8f-2c53-4e2e-90f7-c0b670fd547b",
   "metadata": {},
   "outputs": [
    {
     "data": {
      "text/plain": [
       "AGE                         int64\n",
       "GENDER                      int64\n",
       "SMOKING                     int64\n",
       "FINGER_DISCOLORATION        int64\n",
       "MENTAL_STRESS               int64\n",
       "EXPOSURE_TO_POLLUTION       int64\n",
       "LONG_TERM_ILLNESS           int64\n",
       "ENERGY_LEVEL              float64\n",
       "IMMUNE_WEAKNESS             int64\n",
       "BREATHING_ISSUE             int64\n",
       "ALCOHOL_CONSUMPTION         int64\n",
       "THROAT_DISCOMFORT           int64\n",
       "OXYGEN_SATURATION         float64\n",
       "CHEST_TIGHTNESS             int64\n",
       "FAMILY_HISTORY              int64\n",
       "SMOKING_FAMILY_HISTORY      int64\n",
       "STRESS_IMMUNE               int64\n",
       "PULMONARY_DISEASE          object\n",
       "dtype: object"
      ]
     },
     "execution_count": 14,
     "metadata": {},
     "output_type": "execute_result"
    }
   ],
   "source": [
    "#column data types\n",
    "df.dtypes"
   ]
  },
  {
   "cell_type": "code",
   "execution_count": 15,
   "id": "d629b650-e253-4020-b113-08efa98361e6",
   "metadata": {},
   "outputs": [
    {
     "data": {
      "text/plain": [
       "array(['NO', 'YES'], dtype=object)"
      ]
     },
     "execution_count": 15,
     "metadata": {},
     "output_type": "execute_result"
    }
   ],
   "source": [
    "# Checking unique values of the dtype- object column to understand its structure\n",
    "df['PULMONARY_DISEASE'].unique()"
   ]
  },
  {
   "cell_type": "code",
   "execution_count": 16,
   "id": "d74adfe7-c62c-4437-90ae-b6276500f133",
   "metadata": {},
   "outputs": [],
   "source": [
    "#This means the \"PULMONARY_DISEASE\" column contains only two unique values: \"NO\" and \"YES\" , the column’s data type is object, meaning the values are stored as text (strings) rather than numbers."
   ]
  },
  {
   "cell_type": "code",
   "execution_count": 17,
   "id": "94c8a573-b3f1-458a-9bfb-756e049192ee",
   "metadata": {},
   "outputs": [
    {
     "data": {
      "text/plain": [
       "AGE                       0\n",
       "GENDER                    0\n",
       "SMOKING                   0\n",
       "FINGER_DISCOLORATION      0\n",
       "MENTAL_STRESS             0\n",
       "EXPOSURE_TO_POLLUTION     0\n",
       "LONG_TERM_ILLNESS         0\n",
       "ENERGY_LEVEL              0\n",
       "IMMUNE_WEAKNESS           0\n",
       "BREATHING_ISSUE           0\n",
       "ALCOHOL_CONSUMPTION       0\n",
       "THROAT_DISCOMFORT         0\n",
       "OXYGEN_SATURATION         0\n",
       "CHEST_TIGHTNESS           0\n",
       "FAMILY_HISTORY            0\n",
       "SMOKING_FAMILY_HISTORY    0\n",
       "STRESS_IMMUNE             0\n",
       "PULMONARY_DISEASE         0\n",
       "dtype: int64"
      ]
     },
     "execution_count": 17,
     "metadata": {},
     "output_type": "execute_result"
    }
   ],
   "source": [
    "# check if there are any missing values in each cells\n",
    "df.isnull().sum()"
   ]
  },
  {
   "cell_type": "code",
   "execution_count": 92,
   "id": "3f26d83e-6739-42bb-8307-d13ac312a274",
   "metadata": {},
   "outputs": [],
   "source": [
    "#from the output above there are no missing values in our dataset because every column has a count of 0 missing values. \n",
    "# For our analysis, we assumed the dataset is relatively clean. Otherwise, use df.fillna() or df.dropna() as required."
   ]
  },
  {
   "cell_type": "code",
   "execution_count": 19,
   "id": "912b9772-6b88-4089-8aed-4e1fb2b51c37",
   "metadata": {},
   "outputs": [
    {
     "data": {
      "text/plain": [
       "0"
      ]
     },
     "execution_count": 19,
     "metadata": {},
     "output_type": "execute_result"
    }
   ],
   "source": [
    "## checking for duplicates\n",
    "df.duplicated().sum()"
   ]
  },
  {
   "cell_type": "code",
   "execution_count": 20,
   "id": "94859b51-770a-4c3d-8322-c99b815f8ac6",
   "metadata": {},
   "outputs": [],
   "source": [
    "#there are no duplicate rows in our dataset"
   ]
  },
  {
   "cell_type": "code",
   "execution_count": 21,
   "id": "24a97e72-4a3c-4e0a-a215-639ffe8d64cb",
   "metadata": {},
   "outputs": [
    {
     "data": {
      "text/html": [
       "<div>\n",
       "<style scoped>\n",
       "    .dataframe tbody tr th:only-of-type {\n",
       "        vertical-align: middle;\n",
       "    }\n",
       "\n",
       "    .dataframe tbody tr th {\n",
       "        vertical-align: top;\n",
       "    }\n",
       "\n",
       "    .dataframe thead th {\n",
       "        text-align: right;\n",
       "    }\n",
       "</style>\n",
       "<table border=\"1\" class=\"dataframe\">\n",
       "  <thead>\n",
       "    <tr style=\"text-align: right;\">\n",
       "      <th></th>\n",
       "      <th>AGE</th>\n",
       "      <th>GENDER</th>\n",
       "      <th>SMOKING</th>\n",
       "      <th>FINGER_DISCOLORATION</th>\n",
       "      <th>MENTAL_STRESS</th>\n",
       "      <th>EXPOSURE_TO_POLLUTION</th>\n",
       "      <th>LONG_TERM_ILLNESS</th>\n",
       "      <th>ENERGY_LEVEL</th>\n",
       "      <th>IMMUNE_WEAKNESS</th>\n",
       "      <th>BREATHING_ISSUE</th>\n",
       "      <th>ALCOHOL_CONSUMPTION</th>\n",
       "      <th>THROAT_DISCOMFORT</th>\n",
       "      <th>OXYGEN_SATURATION</th>\n",
       "      <th>CHEST_TIGHTNESS</th>\n",
       "      <th>FAMILY_HISTORY</th>\n",
       "      <th>SMOKING_FAMILY_HISTORY</th>\n",
       "      <th>STRESS_IMMUNE</th>\n",
       "    </tr>\n",
       "  </thead>\n",
       "  <tbody>\n",
       "    <tr>\n",
       "      <th>count</th>\n",
       "      <td>5000.000000</td>\n",
       "      <td>5000.000000</td>\n",
       "      <td>5000.000000</td>\n",
       "      <td>5000.0000</td>\n",
       "      <td>5000.000000</td>\n",
       "      <td>5000.000000</td>\n",
       "      <td>5000.000000</td>\n",
       "      <td>5000.000000</td>\n",
       "      <td>5000.000000</td>\n",
       "      <td>5000.00000</td>\n",
       "      <td>5000.000000</td>\n",
       "      <td>5000.000000</td>\n",
       "      <td>5000.000000</td>\n",
       "      <td>5000.000000</td>\n",
       "      <td>5000.000000</td>\n",
       "      <td>5000.000000</td>\n",
       "      <td>5000.000000</td>\n",
       "    </tr>\n",
       "    <tr>\n",
       "      <th>mean</th>\n",
       "      <td>57.222800</td>\n",
       "      <td>0.501200</td>\n",
       "      <td>0.666400</td>\n",
       "      <td>0.6012</td>\n",
       "      <td>0.539800</td>\n",
       "      <td>0.516000</td>\n",
       "      <td>0.439200</td>\n",
       "      <td>55.032043</td>\n",
       "      <td>0.394800</td>\n",
       "      <td>0.80040</td>\n",
       "      <td>0.354200</td>\n",
       "      <td>0.698200</td>\n",
       "      <td>94.991029</td>\n",
       "      <td>0.600600</td>\n",
       "      <td>0.301800</td>\n",
       "      <td>0.204000</td>\n",
       "      <td>0.209600</td>\n",
       "    </tr>\n",
       "    <tr>\n",
       "      <th>std</th>\n",
       "      <td>15.799224</td>\n",
       "      <td>0.500049</td>\n",
       "      <td>0.471546</td>\n",
       "      <td>0.4897</td>\n",
       "      <td>0.498463</td>\n",
       "      <td>0.499794</td>\n",
       "      <td>0.496339</td>\n",
       "      <td>7.913083</td>\n",
       "      <td>0.488857</td>\n",
       "      <td>0.39974</td>\n",
       "      <td>0.478318</td>\n",
       "      <td>0.459085</td>\n",
       "      <td>1.481048</td>\n",
       "      <td>0.489824</td>\n",
       "      <td>0.459085</td>\n",
       "      <td>0.403009</td>\n",
       "      <td>0.407064</td>\n",
       "    </tr>\n",
       "    <tr>\n",
       "      <th>min</th>\n",
       "      <td>30.000000</td>\n",
       "      <td>0.000000</td>\n",
       "      <td>0.000000</td>\n",
       "      <td>0.0000</td>\n",
       "      <td>0.000000</td>\n",
       "      <td>0.000000</td>\n",
       "      <td>0.000000</td>\n",
       "      <td>23.258308</td>\n",
       "      <td>0.000000</td>\n",
       "      <td>0.00000</td>\n",
       "      <td>0.000000</td>\n",
       "      <td>0.000000</td>\n",
       "      <td>89.923133</td>\n",
       "      <td>0.000000</td>\n",
       "      <td>0.000000</td>\n",
       "      <td>0.000000</td>\n",
       "      <td>0.000000</td>\n",
       "    </tr>\n",
       "    <tr>\n",
       "      <th>25%</th>\n",
       "      <td>44.000000</td>\n",
       "      <td>0.000000</td>\n",
       "      <td>0.000000</td>\n",
       "      <td>0.0000</td>\n",
       "      <td>0.000000</td>\n",
       "      <td>0.000000</td>\n",
       "      <td>0.000000</td>\n",
       "      <td>49.440685</td>\n",
       "      <td>0.000000</td>\n",
       "      <td>1.00000</td>\n",
       "      <td>0.000000</td>\n",
       "      <td>0.000000</td>\n",
       "      <td>93.973176</td>\n",
       "      <td>0.000000</td>\n",
       "      <td>0.000000</td>\n",
       "      <td>0.000000</td>\n",
       "      <td>0.000000</td>\n",
       "    </tr>\n",
       "    <tr>\n",
       "      <th>50%</th>\n",
       "      <td>57.000000</td>\n",
       "      <td>1.000000</td>\n",
       "      <td>1.000000</td>\n",
       "      <td>1.0000</td>\n",
       "      <td>1.000000</td>\n",
       "      <td>1.000000</td>\n",
       "      <td>0.000000</td>\n",
       "      <td>55.050421</td>\n",
       "      <td>0.000000</td>\n",
       "      <td>1.00000</td>\n",
       "      <td>0.000000</td>\n",
       "      <td>1.000000</td>\n",
       "      <td>94.974073</td>\n",
       "      <td>1.000000</td>\n",
       "      <td>0.000000</td>\n",
       "      <td>0.000000</td>\n",
       "      <td>0.000000</td>\n",
       "    </tr>\n",
       "    <tr>\n",
       "      <th>75%</th>\n",
       "      <td>71.000000</td>\n",
       "      <td>1.000000</td>\n",
       "      <td>1.000000</td>\n",
       "      <td>1.0000</td>\n",
       "      <td>1.000000</td>\n",
       "      <td>1.000000</td>\n",
       "      <td>1.000000</td>\n",
       "      <td>60.323320</td>\n",
       "      <td>1.000000</td>\n",
       "      <td>1.00000</td>\n",
       "      <td>1.000000</td>\n",
       "      <td>1.000000</td>\n",
       "      <td>95.989272</td>\n",
       "      <td>1.000000</td>\n",
       "      <td>1.000000</td>\n",
       "      <td>0.000000</td>\n",
       "      <td>0.000000</td>\n",
       "    </tr>\n",
       "    <tr>\n",
       "      <th>max</th>\n",
       "      <td>84.000000</td>\n",
       "      <td>1.000000</td>\n",
       "      <td>1.000000</td>\n",
       "      <td>1.0000</td>\n",
       "      <td>1.000000</td>\n",
       "      <td>1.000000</td>\n",
       "      <td>1.000000</td>\n",
       "      <td>83.046971</td>\n",
       "      <td>1.000000</td>\n",
       "      <td>1.00000</td>\n",
       "      <td>1.000000</td>\n",
       "      <td>1.000000</td>\n",
       "      <td>99.795786</td>\n",
       "      <td>1.000000</td>\n",
       "      <td>1.000000</td>\n",
       "      <td>1.000000</td>\n",
       "      <td>1.000000</td>\n",
       "    </tr>\n",
       "  </tbody>\n",
       "</table>\n",
       "</div>"
      ],
      "text/plain": [
       "               AGE       GENDER      SMOKING  FINGER_DISCOLORATION  \\\n",
       "count  5000.000000  5000.000000  5000.000000             5000.0000   \n",
       "mean     57.222800     0.501200     0.666400                0.6012   \n",
       "std      15.799224     0.500049     0.471546                0.4897   \n",
       "min      30.000000     0.000000     0.000000                0.0000   \n",
       "25%      44.000000     0.000000     0.000000                0.0000   \n",
       "50%      57.000000     1.000000     1.000000                1.0000   \n",
       "75%      71.000000     1.000000     1.000000                1.0000   \n",
       "max      84.000000     1.000000     1.000000                1.0000   \n",
       "\n",
       "       MENTAL_STRESS  EXPOSURE_TO_POLLUTION  LONG_TERM_ILLNESS  ENERGY_LEVEL  \\\n",
       "count    5000.000000            5000.000000        5000.000000   5000.000000   \n",
       "mean        0.539800               0.516000           0.439200     55.032043   \n",
       "std         0.498463               0.499794           0.496339      7.913083   \n",
       "min         0.000000               0.000000           0.000000     23.258308   \n",
       "25%         0.000000               0.000000           0.000000     49.440685   \n",
       "50%         1.000000               1.000000           0.000000     55.050421   \n",
       "75%         1.000000               1.000000           1.000000     60.323320   \n",
       "max         1.000000               1.000000           1.000000     83.046971   \n",
       "\n",
       "       IMMUNE_WEAKNESS  BREATHING_ISSUE  ALCOHOL_CONSUMPTION  \\\n",
       "count      5000.000000       5000.00000          5000.000000   \n",
       "mean          0.394800          0.80040             0.354200   \n",
       "std           0.488857          0.39974             0.478318   \n",
       "min           0.000000          0.00000             0.000000   \n",
       "25%           0.000000          1.00000             0.000000   \n",
       "50%           0.000000          1.00000             0.000000   \n",
       "75%           1.000000          1.00000             1.000000   \n",
       "max           1.000000          1.00000             1.000000   \n",
       "\n",
       "       THROAT_DISCOMFORT  OXYGEN_SATURATION  CHEST_TIGHTNESS  FAMILY_HISTORY  \\\n",
       "count        5000.000000        5000.000000      5000.000000     5000.000000   \n",
       "mean            0.698200          94.991029         0.600600        0.301800   \n",
       "std             0.459085           1.481048         0.489824        0.459085   \n",
       "min             0.000000          89.923133         0.000000        0.000000   \n",
       "25%             0.000000          93.973176         0.000000        0.000000   \n",
       "50%             1.000000          94.974073         1.000000        0.000000   \n",
       "75%             1.000000          95.989272         1.000000        1.000000   \n",
       "max             1.000000          99.795786         1.000000        1.000000   \n",
       "\n",
       "       SMOKING_FAMILY_HISTORY  STRESS_IMMUNE  \n",
       "count             5000.000000    5000.000000  \n",
       "mean                 0.204000       0.209600  \n",
       "std                  0.403009       0.407064  \n",
       "min                  0.000000       0.000000  \n",
       "25%                  0.000000       0.000000  \n",
       "50%                  0.000000       0.000000  \n",
       "75%                  0.000000       0.000000  \n",
       "max                  1.000000       1.000000  "
      ]
     },
     "execution_count": 21,
     "metadata": {},
     "output_type": "execute_result"
    }
   ],
   "source": [
    "# summary statistics\n",
    "df.describe()"
   ]
  },
  {
   "cell_type": "code",
   "execution_count": 22,
   "id": "0f563c40-f515-437e-895d-99f37b45a908",
   "metadata": {},
   "outputs": [
    {
     "data": {
      "text/plain": [
       "Index(['AGE', 'GENDER', 'SMOKING', 'FINGER_DISCOLORATION', 'MENTAL_STRESS',\n",
       "       'EXPOSURE_TO_POLLUTION', 'LONG_TERM_ILLNESS', 'ENERGY_LEVEL',\n",
       "       'IMMUNE_WEAKNESS', 'BREATHING_ISSUE', 'ALCOHOL_CONSUMPTION',\n",
       "       'THROAT_DISCOMFORT', 'OXYGEN_SATURATION', 'CHEST_TIGHTNESS',\n",
       "       'FAMILY_HISTORY', 'SMOKING_FAMILY_HISTORY', 'STRESS_IMMUNE',\n",
       "       'PULMONARY_DISEASE'],\n",
       "      dtype='object')"
      ]
     },
     "execution_count": 22,
     "metadata": {},
     "output_type": "execute_result"
    }
   ],
   "source": [
    "#list of all columns\n",
    "df.columns"
   ]
  },
  {
   "cell_type": "markdown",
   "id": "343d33cc-87c2-410d-9330-315fa33a85ee",
   "metadata": {},
   "source": [
    "## Understanding Data Distribution with Visualizations"
   ]
  },
  {
   "cell_type": "markdown",
   "id": "35fe8f3a-dd27-4b51-9e31-2dadf2b28a1c",
   "metadata": {
    "jp-MarkdownHeadingCollapsed": true
   },
   "source": [
    "### Demographic Factors"
   ]
  },
  {
   "cell_type": "code",
   "execution_count": 25,
   "id": "f6658bf3-778f-420c-8064-5c15cbdb27d3",
   "metadata": {},
   "outputs": [
    {
     "data": {
      "image/png": "[encoded data removed]",
      "text/plain": [
       "<Figure size 432x288 with 1 Axes>"
      ]
     },
     "metadata": {},
     "output_type": "display_data"
    }
   ],
   "source": [
    "# a histogram to see the distribution of age\n",
    "plt.hist(df['AGE'], color='skyblue', edgecolor='black',alpha=1, bins=10)\n",
    "plt.title('Age Distribution', fontsize=16)\n",
    "plt.xlabel('Age',fontsize=12)\n",
    "plt.ylabel('Frequency', fontsize=12)\n",
    "plt.show()"
   ]
  },
  {
   "cell_type": "markdown",
   "id": "30dd92a9-d5ec-47df-8b4f-fc2df7b6bdb4",
   "metadata": {},
   "source": [
    "The age range is roughly between 30 to 85 years, the distribution appears fairly uniform, with no extreme skewness.\n",
    "There are slightly higher frequencies around ages 50, 60, and 70, indicating that more patients fall into those age brackets."
   ]
  },
  {
   "cell_type": "code",
   "execution_count": 27,
   "id": "ea85a0f2-dc6f-42bd-b2c2-e36ee05223b3",
   "metadata": {},
   "outputs": [
    {
     "data": {
      "image/png": "[encoded data removed]",
      "text/plain": [
       "<Figure size 720x432 with 1 Axes>"
      ]
     },
     "metadata": {},
     "output_type": "display_data"
    }
   ],
   "source": [
    "# bar plot to show the distribution of gender (GENDER)\n",
    "plt.figure(figsize=(10, 6))\n",
    "sns.countplot(x='GENDER', data=df, palette='deep', saturation=1)\n",
    "plt.title('Gender Distribution', fontsize=18)\n",
    "plt.xlabel('Gender (0: Female, 1: Male)', fontsize=14)\n",
    "plt.ylabel('Count', fontsize=14)\n",
    "plt.grid(axis='y', linestyle='--', alpha=1)\n",
    "plt.show()"
   ]
  },
  {
   "cell_type": "markdown",
   "id": "1b6de178-5ec8-4ace-8e70-b9a663f993a1",
   "metadata": {},
   "source": [
    "The counts for males and females are almost equal, indicating a balanced gender distribution in the dataset."
   ]
  },
  {
   "cell_type": "markdown",
   "id": "ea59d79e-c205-46a1-9861-4118717591f8",
   "metadata": {
    "jp-MarkdownHeadingCollapsed": true
   },
   "source": [
    "### Behavioral factors  (smoking, alcohol consumption,smoking family history,mental stress)"
   ]
  },
  {
   "cell_type": "code",
   "execution_count": 30,
   "id": "4b2bc30d-1781-4ef8-903f-fd50adb6f173",
   "metadata": {
    "scrolled": true
   },
   "outputs": [
    {
     "data": {
      "image/png": "[encoded data removed]",
      "text/plain": [
       "<Figure size 864x576 with 4 Axes>"
      ]
     },
     "metadata": {},
     "output_type": "display_data"
    }
   ],
   "source": [
    "# Behavioral factors to analyze,create subplots, plot each behavioral data\n",
    "behavioral_factors = ['SMOKING', 'ALCOHOL_CONSUMPTION', 'MENTAL_STRESS', 'SMOKING_FAMILY_HISTORY']\n",
    "\n",
    "fig, axes = plt.subplots(2, 2, figsize=(12, 8))\n",
    "fig.suptitle('Behavioral Factors vs Pulmonary Disease', fontsize=20, weight='bold')\n",
    "\n",
    "for i, factor in enumerate(behavioral_factors):\n",
    "    row, col = divmod(i, 2)\n",
    "    sns.countplot(x=factor, hue='PULMONARY_DISEASE', data=df, palette='Set2', ax=axes[row, col])\n",
    "    axes[row, col].set_title(f'{factor} vs PULMONARY DISEASE', fontsize=16)\n",
    "    axes[row, col].set_xlabel(factor, fontsize=12)\n",
    "    axes[row, col].set_ylabel('Count', fontsize=12)\n",
    "    axes[row, col].grid(axis='y', linestyle='--', alpha=1)\n",
    "\n",
    "plt.tight_layout(rect=[0, 0, 1, 0.95])  # Adjust layout for title\n",
    "plt.show()"
   ]
  },
  {
   "cell_type": "markdown",
   "id": "1167df33-f50c-43f2-bcba-c3a4b0dedd7e",
   "metadata": {},
   "source": [
    "Smoking vs Pulmonary Disease:\n",
    "\n",
    "People who smoke (1) have a higher occurrence of pulmonary disease (orange bar) compared to non-smokers (0).\n",
    "Non-smokers show a much lower count of pulmonary disease cases, suggesting a possible relationship between smoking and pulmonary disease.\n",
    "\n",
    "Alcohol Consumption:\n",
    "\n",
    "Individuals who do not consume alcohol (0) have more cases of pulmonary disease than those who consume alcohol (1), this suggests that alcohol consumption might not have a direct correlation with pulmonary disease, or other factors might be influencing the outcome.\n",
    "\n",
    "Mental Stress vs Pulmonary Disease:\n",
    "\n",
    "People experiencing mental stress (1) show a higher occurrence of pulmonary disease than those without mental stress (0).\n",
    "This indicates that mental stress could potentially contribute to the likelihood of developing pulmonary disease.\n",
    "\n",
    "Smoking Family History vs Pulmonary Disease:\n",
    "\n",
    "Those with a family history of smoking (1) have a noticeably higher occurrence of pulmonary disease compared to those without such a history (0).\n",
    "This highlights a potential hereditary or environmental link where exposure to family members' smoking habits may increase the risk."
   ]
  },
  {
   "cell_type": "markdown",
   "id": "f35f3df7-2e92-44f9-9c04-a4b8c4ed1da1",
   "metadata": {},
   "source": [
    "#### pivot table - behavioral factors"
   ]
  },
  {
   "cell_type": "code",
   "execution_count": 33,
   "id": "3b209e5b-1ebe-4820-865a-26a37d72b289",
   "metadata": {},
   "outputs": [
    {
     "data": {
      "text/html": [
       "<div>\n",
       "<style scoped>\n",
       "    .dataframe tbody tr th:only-of-type {\n",
       "        vertical-align: middle;\n",
       "    }\n",
       "\n",
       "    .dataframe tbody tr th {\n",
       "        vertical-align: top;\n",
       "    }\n",
       "\n",
       "    .dataframe thead th {\n",
       "        text-align: right;\n",
       "    }\n",
       "</style>\n",
       "<table border=\"1\" class=\"dataframe\">\n",
       "  <thead>\n",
       "    <tr style=\"text-align: right;\">\n",
       "      <th></th>\n",
       "      <th>SMOKING</th>\n",
       "      <th>ALCOHOL_CONSUMPTION</th>\n",
       "      <th>MENTAL_STRESS</th>\n",
       "      <th>SMOKING_FAMILY_HISTORY</th>\n",
       "    </tr>\n",
       "    <tr>\n",
       "      <th>PULMONARY_DISEASE</th>\n",
       "      <th></th>\n",
       "      <th></th>\n",
       "      <th></th>\n",
       "      <th></th>\n",
       "    </tr>\n",
       "  </thead>\n",
       "  <tbody>\n",
       "    <tr>\n",
       "      <th>NO</th>\n",
       "      <td>1440</td>\n",
       "      <td>1049</td>\n",
       "      <td>1490</td>\n",
       "      <td>305</td>\n",
       "    </tr>\n",
       "    <tr>\n",
       "      <th>YES</th>\n",
       "      <td>1892</td>\n",
       "      <td>722</td>\n",
       "      <td>1209</td>\n",
       "      <td>715</td>\n",
       "    </tr>\n",
       "  </tbody>\n",
       "</table>\n",
       "</div>"
      ],
      "text/plain": [
       "                   SMOKING  ALCOHOL_CONSUMPTION  MENTAL_STRESS  \\\n",
       "PULMONARY_DISEASE                                                \n",
       "NO                    1440                 1049           1490   \n",
       "YES                   1892                  722           1209   \n",
       "\n",
       "                   SMOKING_FAMILY_HISTORY  \n",
       "PULMONARY_DISEASE                          \n",
       "NO                                    305  \n",
       "YES                                   715  "
      ]
     },
     "execution_count": 33,
     "metadata": {},
     "output_type": "execute_result"
    }
   ],
   "source": [
    "behavioral_factors = ['SMOKING', 'ALCOHOL_CONSUMPTION', 'MENTAL_STRESS', 'SMOKING_FAMILY_HISTORY']\n",
    "behaviour_pivot = df.groupby('PULMONARY_DISEASE')[behavioral_factors].sum()\n",
    "behaviour_pivot"
   ]
  },
  {
   "cell_type": "code",
   "execution_count": 34,
   "id": "10c3a61c-2811-4c76-a913-e027d44fabab",
   "metadata": {},
   "outputs": [
    {
     "data": {
      "image/png": "[encoded data removed]",
      "text/plain": [
       "<Figure size 720x432 with 1 Axes>"
      ]
     },
     "metadata": {},
     "output_type": "display_data"
    }
   ],
   "source": [
    "# Plotting stacked bar graph\n",
    "behaviour_pivot.plot(kind='bar', stacked=True, figsize=(10, 6))\n",
    "plt.title('Behavioral Factors vs Pulmonary Disease (Stacked)', fontsize=16)\n",
    "plt.xlabel('Pulmonary Disease', fontsize=12)\n",
    "plt.ylabel('Count', fontsize=12)\n",
    "plt.xticks(rotation=0)\n",
    "plt.legend(title='Behavioral Factors', bbox_to_anchor=(1.05, 1), loc='upper left')\n",
    "plt.tight_layout()\n",
    "plt.show()"
   ]
  },
  {
   "cell_type": "markdown",
   "id": "7c2c52d3-6acb-4def-8469-3d716f453878",
   "metadata": {},
   "source": [
    "Smoking Impact:\n",
    "\n",
    "People with pulmonary disease show higher smoking counts compared to those without the disease.\n",
    "This suggests a strong correlation between smoking and pulmonary disease.\n",
    "\n",
    "Alcohol Consumption:\n",
    "\n",
    "Alcohol consumption is slightly higher in the group without pulmonary disease.\n",
    "This might indicate that alcohol consumption alone isn’t a significant predictor of pulmonary disease, or it may have indirect effects.\n",
    "\n",
    "Mental Stress:\n",
    "\n",
    "Mental stress appears to be present in both groups but is slightly higher in those without the disease.\n",
    "This might imply that mental stress alone doesn’t directly contribute to pulmonary disease, but other factors combined with stress could have an impact.\n",
    "\n",
    "Family History of Smoking:\n",
    "\n",
    "A noticeable difference exists in smoking family history between the two groups.\n",
    "Individuals with a family history of smoking are more prevalent in the pulmonary disease group, suggesting a potential hereditary or environmental influence."
   ]
  },
  {
   "cell_type": "markdown",
   "id": "66c2f571-0816-488e-b0c9-7768fd7c555f",
   "metadata": {
    "jp-MarkdownHeadingCollapsed": true
   },
   "source": [
    "### Environmental factors"
   ]
  },
  {
   "cell_type": "code",
   "execution_count": 37,
   "id": "33954a39-ea81-4720-b856-57a21043915b",
   "metadata": {},
   "outputs": [
    {
     "data": {
      "image/png": "[encoded data removed]",
      "text/plain": [
       "<Figure size 576x432 with 1 Axes>"
      ]
     },
     "metadata": {},
     "output_type": "display_data"
    }
   ],
   "source": [
    "#exposure to pollution vs pulmonary disease\n",
    "plt.figure(figsize=(8, 6))\n",
    "sns.countplot(data=df, x='EXPOSURE_TO_POLLUTION', hue='PULMONARY_DISEASE')\n",
    "plt.title('Pulmonary Disease Count by Exposure to Pollution')\n",
    "plt.xlabel('Exposure to Pollution')\n",
    "plt.ylabel('Count')\n",
    "plt.legend(title='Pulmonary Disease', labels=['No', 'Yes'])\n",
    "plt.show()\n"
   ]
  },
  {
   "cell_type": "markdown",
   "id": "0bee6291-5e34-4b3d-8875-e0fc1783bc5b",
   "metadata": {},
   "source": [
    "Among individuals exposed to pollution, a higher proportion has pulmonary disease compared to those not exposed.\n",
    "Pollution exposure seems to be linked with a noticeable increase in pulmonary disease cases.\n",
    "\n",
    "In the group with no pollution exposure, more individuals are free from pulmonary disease.\n",
    "This could imply that avoiding pollution exposure may reduce the risk of developing pulmonary disease.\n",
    "\n",
    "Pollution exposure does not affect everyone equally, as there are still many pollution-exposed individuals without pulmonary disease."
   ]
  },
  {
   "cell_type": "markdown",
   "id": "b810cf15-07a4-4f59-8853-886378984176",
   "metadata": {
    "jp-MarkdownHeadingCollapsed": true
   },
   "source": [
    "### Subplots of Health indicators"
   ]
  },
  {
   "cell_type": "code",
   "execution_count": 40,
   "id": "14be779b-9745-45af-9c5f-5acef301e57a",
   "metadata": {},
   "outputs": [
    {
     "data": {
      "image/png": "[encoded data removed]",
      "text/plain": [
       "<Figure size 1080x864 with 6 Axes>"
      ]
     },
     "metadata": {},
     "output_type": "display_data"
    }
   ],
   "source": [
    "# Health indicators for subplots\n",
    "health_indicators = [\"BREATHING_ISSUE\", \"CHEST_TIGHTNESS\", \"OXYGEN_SATURATION\", \"IMMUNE_WEAKNESS\", \"FINGER_DISCOLORATION\", \"ENERGY_LEVEL\"]\n",
    "\n",
    "fig, axes = plt.subplots(3, 2, figsize=(15, 12))\n",
    "axes = axes.flatten()\n",
    "\n",
    "plot_types = ['line', 'bar', 'hist', 'line', 'bar', 'hist']\n",
    "\n",
    "for i, indicator in enumerate(health_indicators):\n",
    "    if plot_types[i] == 'line':\n",
    "        sns.countplot(data=df, x='PULMONARY_DISEASE', hue=indicator, ax=axes[i])\n",
    "    elif plot_types[i] == 'bar':\n",
    "        sns.countplot(data=df, x='PULMONARY_DISEASE', hue=indicator, ax=axes[i])\n",
    "    elif plot_types[i] == 'hist':\n",
    "        sns.histplot(df, x=indicator, hue='PULMONARY_DISEASE', element='step', ax=axes[i], common_norm=False)\n",
    "    axes[i].set_title(indicator.replace('_', ' ').title())\n",
    "\n",
    "plt.tight_layout()\n",
    "plt.show()\n"
   ]
  },
  {
   "cell_type": "markdown",
   "id": "e6fa8a61-7f37-4e79-98ed-2514bb5e9740",
   "metadata": {},
   "source": [
    "Breathing Issue:\n",
    "Most people with pulmonary disease (1) have breathing issues, while fewer people without pulmonary disease (0) report this issue.\n",
    "\n",
    "Chest Tightness:\n",
    "Chest tightness is more common among those with pulmonary disease (1), but some individuals without it (0) also experience chest tightness.\n",
    "\n",
    "Oxygen Saturation:\n",
    "People with pulmonary disease (1) generally have lower oxygen saturation compared to those without (0), though there’s some overlap.\n",
    "\n",
    "Immune Weakness:\n",
    "Immune weakness is reported more frequently by individuals with pulmonary disease (1), suggesting a correlation.\n",
    "\n",
    "Finger Discoloration:\n",
    "Finger discoloration is noticeably higher in the pulmonary disease group (1), possibly due to oxygen-related issues.\n",
    "\n",
    "Energy Level:\n",
    "Energy levels tend to be slightly lower for those with pulmonary disease (1), but the overall distribution between the two groups is quite similar."
   ]
  },
  {
   "cell_type": "markdown",
   "id": "d47b4a2c-7265-4ff3-8a66-2d0dc27dc40f",
   "metadata": {
    "jp-MarkdownHeadingCollapsed": true
   },
   "source": [
    "## Data transformation and visualization"
   ]
  },
  {
   "cell_type": "code",
   "execution_count": 43,
   "id": "4851143c-84f2-4830-869d-5bcf6df435e6",
   "metadata": {},
   "outputs": [],
   "source": [
    "#create a new  column using lambda functions whereby we categorize ages into 'Young' (under 40), 'Middle-aged' (40 to 59), and 'Senior' (60 and above).\n",
    "df['Age_group'] = df['AGE'].map(lambda x: 'Young' if x < 40 else 'Middle-aged' if x < 60 else 'Senior')"
   ]
  },
  {
   "cell_type": "code",
   "execution_count": 44,
   "id": "297cf823-2f95-4a9e-86eb-54c2ec031eea",
   "metadata": {},
   "outputs": [
    {
     "data": {
      "text/html": [
       "<div>\n",
       "<style scoped>\n",
       "    .dataframe tbody tr th:only-of-type {\n",
       "        vertical-align: middle;\n",
       "    }\n",
       "\n",
       "    .dataframe tbody tr th {\n",
       "        vertical-align: top;\n",
       "    }\n",
       "\n",
       "    .dataframe thead th {\n",
       "        text-align: right;\n",
       "    }\n",
       "</style>\n",
       "<table border=\"1\" class=\"dataframe\">\n",
       "  <thead>\n",
       "    <tr style=\"text-align: right;\">\n",
       "      <th></th>\n",
       "      <th>AGE</th>\n",
       "      <th>GENDER</th>\n",
       "      <th>SMOKING</th>\n",
       "      <th>FINGER_DISCOLORATION</th>\n",
       "      <th>MENTAL_STRESS</th>\n",
       "      <th>EXPOSURE_TO_POLLUTION</th>\n",
       "      <th>LONG_TERM_ILLNESS</th>\n",
       "      <th>ENERGY_LEVEL</th>\n",
       "      <th>IMMUNE_WEAKNESS</th>\n",
       "      <th>BREATHING_ISSUE</th>\n",
       "      <th>ALCOHOL_CONSUMPTION</th>\n",
       "      <th>THROAT_DISCOMFORT</th>\n",
       "      <th>OXYGEN_SATURATION</th>\n",
       "      <th>CHEST_TIGHTNESS</th>\n",
       "      <th>FAMILY_HISTORY</th>\n",
       "      <th>SMOKING_FAMILY_HISTORY</th>\n",
       "      <th>STRESS_IMMUNE</th>\n",
       "      <th>PULMONARY_DISEASE</th>\n",
       "      <th>Age_group</th>\n",
       "    </tr>\n",
       "  </thead>\n",
       "  <tbody>\n",
       "    <tr>\n",
       "      <th>0</th>\n",
       "      <td>68</td>\n",
       "      <td>1</td>\n",
       "      <td>1</td>\n",
       "      <td>1</td>\n",
       "      <td>1</td>\n",
       "      <td>1</td>\n",
       "      <td>0</td>\n",
       "      <td>57.831178</td>\n",
       "      <td>0</td>\n",
       "      <td>0</td>\n",
       "      <td>1</td>\n",
       "      <td>1</td>\n",
       "      <td>95.977287</td>\n",
       "      <td>1</td>\n",
       "      <td>0</td>\n",
       "      <td>0</td>\n",
       "      <td>0</td>\n",
       "      <td>NO</td>\n",
       "      <td>Senior</td>\n",
       "    </tr>\n",
       "    <tr>\n",
       "      <th>1</th>\n",
       "      <td>81</td>\n",
       "      <td>1</td>\n",
       "      <td>1</td>\n",
       "      <td>0</td>\n",
       "      <td>0</td>\n",
       "      <td>1</td>\n",
       "      <td>1</td>\n",
       "      <td>47.694835</td>\n",
       "      <td>1</td>\n",
       "      <td>1</td>\n",
       "      <td>0</td>\n",
       "      <td>1</td>\n",
       "      <td>97.184483</td>\n",
       "      <td>0</td>\n",
       "      <td>0</td>\n",
       "      <td>0</td>\n",
       "      <td>0</td>\n",
       "      <td>YES</td>\n",
       "      <td>Senior</td>\n",
       "    </tr>\n",
       "    <tr>\n",
       "      <th>2</th>\n",
       "      <td>58</td>\n",
       "      <td>1</td>\n",
       "      <td>1</td>\n",
       "      <td>0</td>\n",
       "      <td>0</td>\n",
       "      <td>0</td>\n",
       "      <td>0</td>\n",
       "      <td>59.577435</td>\n",
       "      <td>0</td>\n",
       "      <td>1</td>\n",
       "      <td>1</td>\n",
       "      <td>0</td>\n",
       "      <td>94.974939</td>\n",
       "      <td>0</td>\n",
       "      <td>0</td>\n",
       "      <td>0</td>\n",
       "      <td>0</td>\n",
       "      <td>NO</td>\n",
       "      <td>Middle-aged</td>\n",
       "    </tr>\n",
       "    <tr>\n",
       "      <th>3</th>\n",
       "      <td>44</td>\n",
       "      <td>0</td>\n",
       "      <td>1</td>\n",
       "      <td>0</td>\n",
       "      <td>1</td>\n",
       "      <td>1</td>\n",
       "      <td>0</td>\n",
       "      <td>59.785767</td>\n",
       "      <td>0</td>\n",
       "      <td>1</td>\n",
       "      <td>0</td>\n",
       "      <td>1</td>\n",
       "      <td>95.187900</td>\n",
       "      <td>0</td>\n",
       "      <td>0</td>\n",
       "      <td>0</td>\n",
       "      <td>0</td>\n",
       "      <td>YES</td>\n",
       "      <td>Middle-aged</td>\n",
       "    </tr>\n",
       "    <tr>\n",
       "      <th>4</th>\n",
       "      <td>72</td>\n",
       "      <td>0</td>\n",
       "      <td>1</td>\n",
       "      <td>1</td>\n",
       "      <td>1</td>\n",
       "      <td>1</td>\n",
       "      <td>1</td>\n",
       "      <td>59.733941</td>\n",
       "      <td>0</td>\n",
       "      <td>1</td>\n",
       "      <td>0</td>\n",
       "      <td>1</td>\n",
       "      <td>93.503008</td>\n",
       "      <td>0</td>\n",
       "      <td>0</td>\n",
       "      <td>0</td>\n",
       "      <td>0</td>\n",
       "      <td>YES</td>\n",
       "      <td>Senior</td>\n",
       "    </tr>\n",
       "  </tbody>\n",
       "</table>\n",
       "</div>"
      ],
      "text/plain": [
       "   AGE  GENDER  SMOKING  FINGER_DISCOLORATION  MENTAL_STRESS  \\\n",
       "0   68       1        1                     1              1   \n",
       "1   81       1        1                     0              0   \n",
       "2   58       1        1                     0              0   \n",
       "3   44       0        1                     0              1   \n",
       "4   72       0        1                     1              1   \n",
       "\n",
       "   EXPOSURE_TO_POLLUTION  LONG_TERM_ILLNESS  ENERGY_LEVEL  IMMUNE_WEAKNESS  \\\n",
       "0                      1                  0     57.831178                0   \n",
       "1                      1                  1     47.694835                1   \n",
       "2                      0                  0     59.577435                0   \n",
       "3                      1                  0     59.785767                0   \n",
       "4                      1                  1     59.733941                0   \n",
       "\n",
       "   BREATHING_ISSUE  ALCOHOL_CONSUMPTION  THROAT_DISCOMFORT  OXYGEN_SATURATION  \\\n",
       "0                0                    1                  1          95.977287   \n",
       "1                1                    0                  1          97.184483   \n",
       "2                1                    1                  0          94.974939   \n",
       "3                1                    0                  1          95.187900   \n",
       "4                1                    0                  1          93.503008   \n",
       "\n",
       "   CHEST_TIGHTNESS  FAMILY_HISTORY  SMOKING_FAMILY_HISTORY  STRESS_IMMUNE  \\\n",
       "0                1               0                       0              0   \n",
       "1                0               0                       0              0   \n",
       "2                0               0                       0              0   \n",
       "3                0               0                       0              0   \n",
       "4                0               0                       0              0   \n",
       "\n",
       "  PULMONARY_DISEASE    Age_group  \n",
       "0                NO       Senior  \n",
       "1               YES       Senior  \n",
       "2                NO  Middle-aged  \n",
       "3               YES  Middle-aged  \n",
       "4               YES       Senior  "
      ]
     },
     "execution_count": 44,
     "metadata": {},
     "output_type": "execute_result"
    }
   ],
   "source": [
    "df.head()"
   ]
  },
  {
   "cell_type": "code",
   "execution_count": 45,
   "id": "e73edebf-5625-43ef-9230-542beb057297",
   "metadata": {},
   "outputs": [
    {
     "data": {
      "text/plain": [
       "Age_group\n",
       "Middle-aged    1833\n",
       "Senior         2289\n",
       "Young           878\n",
       "dtype: int64"
      ]
     },
     "execution_count": 45,
     "metadata": {},
     "output_type": "execute_result"
    }
   ],
   "source": [
    "#distribution of records across different age groups.\n",
    "df.groupby('Age_group').size()"
   ]
  },
  {
   "cell_type": "code",
   "execution_count": 46,
   "id": "d940929f-43b4-413b-aa6a-470987824d02",
   "metadata": {},
   "outputs": [
    {
     "data": {
      "image/png": "[encoded data removed]",
      "text/plain": [
       "<Figure size 936x432 with 1 Axes>"
      ]
     },
     "metadata": {},
     "output_type": "display_data"
    }
   ],
   "source": [
    "df.groupby('Age_group')['AGE'].sum().plot.pie(figsize=(13, 6));"
   ]
  },
  {
   "cell_type": "markdown",
   "id": "2f8e3157-8364-448b-9255-977b08915ffd",
   "metadata": {},
   "source": [
    "- Seniors make up the largest group, implying that older individuals are more represented in this data.\n",
    "- Middle-aged individuals are the second-largest group, while young individuals are the least represented."
   ]
  },
  {
   "cell_type": "code",
   "execution_count": 48,
   "id": "32814afb-6883-4539-a219-1a5301098338",
   "metadata": {},
   "outputs": [
    {
     "data": {
      "text/plain": [
       "PULMONARY_DISEASE  Age_group  \n",
       "NO                 Middle-aged    510\n",
       "                   Senior         660\n",
       "                   Young          270\n",
       "YES                Middle-aged    706\n",
       "                   Senior         848\n",
       "                   Young          338\n",
       "Name: SMOKING, dtype: int64"
      ]
     },
     "execution_count": 48,
     "metadata": {},
     "output_type": "execute_result"
    }
   ],
   "source": [
    "#group by PULMONARY_DISEASE and Age_group, sum the SMOKING values for each combination,\n",
    "grouped = df.groupby(['PULMONARY_DISEASE', 'Age_group'])['SMOKING'].sum()\n",
    "grouped"
   ]
  },
  {
   "cell_type": "code",
   "execution_count": 49,
   "id": "6bf9db20-b95b-4e0a-b4ad-2ca55c012b87",
   "metadata": {},
   "outputs": [
    {
     "data": {
      "text/html": [
       "<div>\n",
       "<style scoped>\n",
       "    .dataframe tbody tr th:only-of-type {\n",
       "        vertical-align: middle;\n",
       "    }\n",
       "\n",
       "    .dataframe tbody tr th {\n",
       "        vertical-align: top;\n",
       "    }\n",
       "\n",
       "    .dataframe thead th {\n",
       "        text-align: right;\n",
       "    }\n",
       "</style>\n",
       "<table border=\"1\" class=\"dataframe\">\n",
       "  <thead>\n",
       "    <tr style=\"text-align: right;\">\n",
       "      <th>Age_group</th>\n",
       "      <th>Middle-aged</th>\n",
       "      <th>Senior</th>\n",
       "      <th>Young</th>\n",
       "    </tr>\n",
       "    <tr>\n",
       "      <th>PULMONARY_DISEASE</th>\n",
       "      <th></th>\n",
       "      <th></th>\n",
       "      <th></th>\n",
       "    </tr>\n",
       "  </thead>\n",
       "  <tbody>\n",
       "    <tr>\n",
       "      <th>NO</th>\n",
       "      <td>510</td>\n",
       "      <td>660</td>\n",
       "      <td>270</td>\n",
       "    </tr>\n",
       "    <tr>\n",
       "      <th>YES</th>\n",
       "      <td>706</td>\n",
       "      <td>848</td>\n",
       "      <td>338</td>\n",
       "    </tr>\n",
       "  </tbody>\n",
       "</table>\n",
       "</div>"
      ],
      "text/plain": [
       "Age_group          Middle-aged  Senior  Young\n",
       "PULMONARY_DISEASE                            \n",
       "NO                         510     660    270\n",
       "YES                        706     848    338"
      ]
     },
     "execution_count": 49,
     "metadata": {},
     "output_type": "execute_result"
    }
   ],
   "source": [
    "#lets create a pivot table\n",
    "pivot = grouped.reset_index().pivot(index='PULMONARY_DISEASE', columns='Age_group', values='SMOKING')\n",
    "pivot"
   ]
  },
  {
   "cell_type": "code",
   "execution_count": 50,
   "id": "bfcb759c-3b68-4a37-8e49-0ed520d6aa39",
   "metadata": {},
   "outputs": [
    {
     "data": {
      "image/png": "[encoded data removed]",
      "text/plain": [
       "<Figure size 720x432 with 1 Axes>"
      ]
     },
     "metadata": {},
     "output_type": "display_data"
    }
   ],
   "source": [
    "#bar chart from the pivot table\n",
    "pivot.plot(kind='bar', figsize=(10, 6))\n",
    "plt.title('Smoking Counts by Pulmonary Disease and Age Group', fontsize=16)\n",
    "plt.xlabel('Pulmonary Disease', fontsize=12)\n",
    "plt.ylabel('Smoking Count', fontsize=12)\n",
    "plt.xticks(rotation=0)\n",
    "plt.legend(title='Age Group')\n",
    "plt.show()"
   ]
  },
  {
   "cell_type": "markdown",
   "id": "e24ac309-d6eb-47d3-8080-bb43ec222c04",
   "metadata": {},
   "source": [
    "- The number of smokers is generally higher among seniors, regardless of whether they have pulmonary disease or not.\n",
    "- People with pulmonary disease have more smokers in every age group compared to those without pulmonary disease."
   ]
  },
  {
   "cell_type": "markdown",
   "id": "621ca460-4d68-40ec-8ce8-f768c27a06e6",
   "metadata": {
    "jp-MarkdownHeadingCollapsed": true
   },
   "source": [
    "## Correlation analysis , Insights"
   ]
  },
  {
   "cell_type": "code",
   "execution_count": 53,
   "id": "aa20103f-c8d4-40cf-b931-4a8f17316408",
   "metadata": {},
   "outputs": [],
   "source": [
    "# Convert'PULMONARY_DISEASE' / 'LUNG_CANCER' to numeric for aggregation\n",
    "df['PULMONARY_DISEASE'] = df['PULMONARY_DISEASE'].apply(lambda x: 1 if x == 'YES' else 0)"
   ]
  },
  {
   "cell_type": "code",
   "execution_count": 54,
   "id": "3de64958-7896-47cb-a612-8563e5e65aa5",
   "metadata": {},
   "outputs": [
    {
     "data": {
      "text/html": [
       "<div>\n",
       "<style scoped>\n",
       "    .dataframe tbody tr th:only-of-type {\n",
       "        vertical-align: middle;\n",
       "    }\n",
       "\n",
       "    .dataframe tbody tr th {\n",
       "        vertical-align: top;\n",
       "    }\n",
       "\n",
       "    .dataframe thead th {\n",
       "        text-align: right;\n",
       "    }\n",
       "</style>\n",
       "<table border=\"1\" class=\"dataframe\">\n",
       "  <thead>\n",
       "    <tr style=\"text-align: right;\">\n",
       "      <th></th>\n",
       "      <th>AGE</th>\n",
       "      <th>GENDER</th>\n",
       "      <th>SMOKING</th>\n",
       "      <th>FINGER_DISCOLORATION</th>\n",
       "      <th>MENTAL_STRESS</th>\n",
       "      <th>EXPOSURE_TO_POLLUTION</th>\n",
       "      <th>LONG_TERM_ILLNESS</th>\n",
       "      <th>ENERGY_LEVEL</th>\n",
       "      <th>IMMUNE_WEAKNESS</th>\n",
       "      <th>BREATHING_ISSUE</th>\n",
       "      <th>ALCOHOL_CONSUMPTION</th>\n",
       "      <th>THROAT_DISCOMFORT</th>\n",
       "      <th>OXYGEN_SATURATION</th>\n",
       "      <th>CHEST_TIGHTNESS</th>\n",
       "      <th>FAMILY_HISTORY</th>\n",
       "      <th>SMOKING_FAMILY_HISTORY</th>\n",
       "      <th>STRESS_IMMUNE</th>\n",
       "      <th>PULMONARY_DISEASE</th>\n",
       "      <th>Age_group</th>\n",
       "    </tr>\n",
       "  </thead>\n",
       "  <tbody>\n",
       "    <tr>\n",
       "      <th>0</th>\n",
       "      <td>68</td>\n",
       "      <td>1</td>\n",
       "      <td>1</td>\n",
       "      <td>1</td>\n",
       "      <td>1</td>\n",
       "      <td>1</td>\n",
       "      <td>0</td>\n",
       "      <td>57.831178</td>\n",
       "      <td>0</td>\n",
       "      <td>0</td>\n",
       "      <td>1</td>\n",
       "      <td>1</td>\n",
       "      <td>95.977287</td>\n",
       "      <td>1</td>\n",
       "      <td>0</td>\n",
       "      <td>0</td>\n",
       "      <td>0</td>\n",
       "      <td>0</td>\n",
       "      <td>Senior</td>\n",
       "    </tr>\n",
       "    <tr>\n",
       "      <th>1</th>\n",
       "      <td>81</td>\n",
       "      <td>1</td>\n",
       "      <td>1</td>\n",
       "      <td>0</td>\n",
       "      <td>0</td>\n",
       "      <td>1</td>\n",
       "      <td>1</td>\n",
       "      <td>47.694835</td>\n",
       "      <td>1</td>\n",
       "      <td>1</td>\n",
       "      <td>0</td>\n",
       "      <td>1</td>\n",
       "      <td>97.184483</td>\n",
       "      <td>0</td>\n",
       "      <td>0</td>\n",
       "      <td>0</td>\n",
       "      <td>0</td>\n",
       "      <td>1</td>\n",
       "      <td>Senior</td>\n",
       "    </tr>\n",
       "    <tr>\n",
       "      <th>2</th>\n",
       "      <td>58</td>\n",
       "      <td>1</td>\n",
       "      <td>1</td>\n",
       "      <td>0</td>\n",
       "      <td>0</td>\n",
       "      <td>0</td>\n",
       "      <td>0</td>\n",
       "      <td>59.577435</td>\n",
       "      <td>0</td>\n",
       "      <td>1</td>\n",
       "      <td>1</td>\n",
       "      <td>0</td>\n",
       "      <td>94.974939</td>\n",
       "      <td>0</td>\n",
       "      <td>0</td>\n",
       "      <td>0</td>\n",
       "      <td>0</td>\n",
       "      <td>0</td>\n",
       "      <td>Middle-aged</td>\n",
       "    </tr>\n",
       "    <tr>\n",
       "      <th>3</th>\n",
       "      <td>44</td>\n",
       "      <td>0</td>\n",
       "      <td>1</td>\n",
       "      <td>0</td>\n",
       "      <td>1</td>\n",
       "      <td>1</td>\n",
       "      <td>0</td>\n",
       "      <td>59.785767</td>\n",
       "      <td>0</td>\n",
       "      <td>1</td>\n",
       "      <td>0</td>\n",
       "      <td>1</td>\n",
       "      <td>95.187900</td>\n",
       "      <td>0</td>\n",
       "      <td>0</td>\n",
       "      <td>0</td>\n",
       "      <td>0</td>\n",
       "      <td>1</td>\n",
       "      <td>Middle-aged</td>\n",
       "    </tr>\n",
       "    <tr>\n",
       "      <th>4</th>\n",
       "      <td>72</td>\n",
       "      <td>0</td>\n",
       "      <td>1</td>\n",
       "      <td>1</td>\n",
       "      <td>1</td>\n",
       "      <td>1</td>\n",
       "      <td>1</td>\n",
       "      <td>59.733941</td>\n",
       "      <td>0</td>\n",
       "      <td>1</td>\n",
       "      <td>0</td>\n",
       "      <td>1</td>\n",
       "      <td>93.503008</td>\n",
       "      <td>0</td>\n",
       "      <td>0</td>\n",
       "      <td>0</td>\n",
       "      <td>0</td>\n",
       "      <td>1</td>\n",
       "      <td>Senior</td>\n",
       "    </tr>\n",
       "  </tbody>\n",
       "</table>\n",
       "</div>"
      ],
      "text/plain": [
       "   AGE  GENDER  SMOKING  FINGER_DISCOLORATION  MENTAL_STRESS  \\\n",
       "0   68       1        1                     1              1   \n",
       "1   81       1        1                     0              0   \n",
       "2   58       1        1                     0              0   \n",
       "3   44       0        1                     0              1   \n",
       "4   72       0        1                     1              1   \n",
       "\n",
       "   EXPOSURE_TO_POLLUTION  LONG_TERM_ILLNESS  ENERGY_LEVEL  IMMUNE_WEAKNESS  \\\n",
       "0                      1                  0     57.831178                0   \n",
       "1                      1                  1     47.694835                1   \n",
       "2                      0                  0     59.577435                0   \n",
       "3                      1                  0     59.785767                0   \n",
       "4                      1                  1     59.733941                0   \n",
       "\n",
       "   BREATHING_ISSUE  ALCOHOL_CONSUMPTION  THROAT_DISCOMFORT  OXYGEN_SATURATION  \\\n",
       "0                0                    1                  1          95.977287   \n",
       "1                1                    0                  1          97.184483   \n",
       "2                1                    1                  0          94.974939   \n",
       "3                1                    0                  1          95.187900   \n",
       "4                1                    0                  1          93.503008   \n",
       "\n",
       "   CHEST_TIGHTNESS  FAMILY_HISTORY  SMOKING_FAMILY_HISTORY  STRESS_IMMUNE  \\\n",
       "0                1               0                       0              0   \n",
       "1                0               0                       0              0   \n",
       "2                0               0                       0              0   \n",
       "3                0               0                       0              0   \n",
       "4                0               0                       0              0   \n",
       "\n",
       "   PULMONARY_DISEASE    Age_group  \n",
       "0                  0       Senior  \n",
       "1                  1       Senior  \n",
       "2                  0  Middle-aged  \n",
       "3                  1  Middle-aged  \n",
       "4                  1       Senior  "
      ]
     },
     "execution_count": 54,
     "metadata": {},
     "output_type": "execute_result"
    }
   ],
   "source": [
    "df.head()"
   ]
  },
  {
   "cell_type": "code",
   "execution_count": 55,
   "id": "4e55afa3-1cc8-493d-a015-730e05328ae1",
   "metadata": {},
   "outputs": [
    {
     "name": "stdout",
     "output_type": "stream",
     "text": [
      "Correlation Matrix:\n",
      " PULMONARY_DISEASE         1.000000\n",
      "SMOKING                   0.461467\n",
      "SMOKING_FAMILY_HISTORY    0.302478\n",
      "THROAT_DISCOMFORT         0.283545\n",
      "BREATHING_ISSUE           0.270464\n",
      "STRESS_IMMUNE             0.181053\n",
      "ENERGY_LEVEL              0.171479\n",
      "IMMUNE_WEAKNESS           0.124736\n",
      "FAMILY_HISTORY            0.117255\n",
      "EXPOSURE_TO_POLLUTION     0.095222\n",
      "MENTAL_STRESS             0.089367\n",
      "CHEST_TIGHTNESS           0.026244\n",
      "FINGER_DISCOLORATION      0.026066\n",
      "OXYGEN_SATURATION         0.018570\n",
      "LONG_TERM_ILLNESS         0.012589\n",
      "ALCOHOL_CONSUMPTION       0.000421\n",
      "GENDER                   -0.004025\n",
      "AGE                      -0.006489\n",
      "Name: PULMONARY_DISEASE, dtype: float64\n"
     ]
    }
   ],
   "source": [
    "# Correlation Analysis\n",
    "correlation_matrix = df.corr()\n",
    "print(\"Correlation Matrix:\\n\", correlation_matrix['PULMONARY_DISEASE'].sort_values(ascending=False))"
   ]
  },
  {
   "cell_type": "code",
   "execution_count": 56,
   "id": "eb25a375-2e5f-45ec-b857-792aabf9b66b",
   "metadata": {},
   "outputs": [
    {
     "data": {
      "image/png": "[encoded data removed]",
      "text/plain": [
       "<Figure size 720x432 with 1 Axes>"
      ]
     },
     "metadata": {},
     "output_type": "display_data"
    }
   ],
   "source": [
    "# Sort correlations with PULMONARY_DISEASE\n",
    "correlations = correlation_matrix['PULMONARY_DISEASE'].sort_values(ascending=False)[1:]\n",
    "# Plot\n",
    "plt.figure(figsize=(10, 6))\n",
    "sns.barplot(x=correlations.values, y=correlations.index)\n",
    "plt.title('Correlation with Pulmonary Disease', fontsize=16, weight='bold')\n",
    "plt.xlabel('Correlation Coefficient', fontsize=12)\n",
    "plt.ylabel('Features', fontsize=12)\n",
    "plt.grid(axis='x', linestyle='--', alpha=1)\n",
    "plt.show()"
   ]
  },
  {
   "cell_type": "markdown",
   "id": "11bc0828-98ea-4bed-aff4-fe0942bf12fb",
   "metadata": {},
   "source": [
    "This correlation plot shows the relationship between different features and the likelihood of having pulmonary disease. Let’s break it down:\n",
    "\n",
    "Top Factors:\n",
    "\n",
    "Smoking (0.46): The strongest positive correlation, meaning that smoking has the most significant relationship with pulmonary disease. As smoking increases, so does the likelihood of having pulmonary disease.\n",
    "\n",
    "Smoking Family History (0.30): Indicates that having a family history of smoking is also a strong risk factor, possibly due to both genetic predisposition and second-hand smoke exposure.\n",
    "\n",
    "Throat Discomfort (0.28) and Breathing Issues (0.27): These symptoms are closely linked with pulmonary diseases, making their high correlation expected.\n",
    "\n",
    "Moderate Factors:\n",
    "\n",
    "Stress Immune (0.18) and Energy Level (0.17): Suggests that immune stress and lower energy levels could indicate or exacerbate pulmonary conditions.\n",
    "\n",
    "Immune Weakness (0.12): Supports the idea that a compromised immune system makes individuals more prone to pulmonary diseases.\n",
    "\n",
    "Lower Correlations:\n",
    "\n",
    "Exposure to Pollution (0.09) and Mental Stress (0.08): While these factors contribute, their correlation is weaker, indicating they might not directly cause pulmonary disease but still play a role.\n",
    "\n",
    "Negligible or Negative Correlations:\n",
    "\n",
    "Alcohol Consumption (0.0004): Has almost no correlation, meaning alcohol consumption doesn’t show a notable relationship with pulmonary disease in this dataset.\n",
    "\n",
    "Gender (-0.004) and Age (-0.006): These have very weak negative correlations, implying that gender and age aren’t significant factors in predicting pulmonary disease here.\n",
    "\n",
    "Overall Insight:\n",
    "\n",
    "Smoking stands out as the most critical behavioral factor, with a clear relationship to pulmonary disease. Family history and symptoms like throat discomfort and breathing issues also show notable correlations. Addressing smoking habits and monitoring these symptoms could be crucial in prevention and management."
   ]
  },
  {
   "cell_type": "code",
   "execution_count": null,
   "id": "dfaf64f8-cbf9-4806-81a5-f2a8cf7b9320",
   "metadata": {},
   "outputs": [],
   "source": []
  }
 ],
 "metadata": {
  "kernelspec": {
   "display_name": "Python [conda env:learn-env]",
   "language": "python",
   "name": "conda-env-learn-env-py"
  },
  "language_info": {
   "codemirror_mode": {
    "name": "ipython",
    "version": 3
   },
   "file_extension": ".py",
   "mimetype": "text/x-python",
   "name": "python",
   "nbconvert_exporter": "python",
   "pygments_lexer": "ipython3",
   "version": "3.8.5"
  }
 },
 "nbformat": 4,
 "nbformat_minor": 5
}
